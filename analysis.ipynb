{
 "cells": [
  {
   "cell_type": "code",
   "execution_count": null,
   "id": "375a3a7a",
   "metadata": {},
   "outputs": [],
   "source": [
    "import pandas as pd\n",
    "import matplotlib.pyplot as plt\n",
    "import seaborn as sns"
   ]
  },
  {
   "cell_type": "code",
   "execution_count": null,
   "id": "d6238041",
   "metadata": {},
   "outputs": [],
   "source": [
    "# Load dataset\n",
    "df = pd.read_csv(\"Trending_Movies.csv\")"
   ]
  },
  {
   "cell_type": "code",
   "execution_count": null,
   "id": "2b516c8d",
   "metadata": {},
   "outputs": [],
   "source": [
    "# Summary statistics\n",
    "print(df.describe())"
   ]
  },
  {
   "cell_type": "code",
   "execution_count": null,
   "id": "32822d40",
   "metadata": {},
   "outputs": [],
   "source": [
    "# Numeric features\n",
    "numeric_cols = [\"popularity\", \"vote_average\", \"vote_count\"]"
   ]
  },
  {
   "cell_type": "code",
   "execution_count": null,
   "id": "3f3e3423",
   "metadata": {},
   "outputs": [],
   "source": [
    "# Histograms and boxplots\n",
    "for col in numeric_cols:\n",
    "    fig, axes = plt.subplots(1, 2, figsize=(12, 4))\n",
    "    sns.histplot(df[col], kde=True, ax=axes[0], color=\"skyblue\")\n",
    "    axes[0].set_title(f'{col} - Histogram')\n",
    "    sns.boxplot(x=df[col], ax=axes[1], color=\"lightgreen\")\n",
    "    axes[1].set_title(f'{col} - Boxplot')\n",
    "    plt.tight_layout()\n",
    "    plt.savefig(f\"{col}_hist_box.png\")\n",
    "    plt.close()"
   ]
  },
  {
   "cell_type": "code",
   "execution_count": null,
   "id": "212bf9b0",
   "metadata": {},
   "outputs": [],
   "source": [
    "# Correlation matrix\n",
    "corr = df[numeric_cols].corr()\n",
    "plt.figure(figsize=(6, 4))\n",
    "sns.heatmap(corr, annot=True, cmap='coolwarm', fmt=\".2f\")\n",
    "plt.title(\"Correlation Matrix\")\n",
    "plt.tight_layout()\n",
    "plt.savefig(\"correlation_matrix.png\")\n",
    "plt.close()"
   ]
  },
  {
   "cell_type": "code",
   "execution_count": null,
   "id": "8dd591a3",
   "metadata": {},
   "outputs": [],
   "source": [
    "# Pairplot (sampled)\n",
    "sample_df = df[numeric_cols].sample(n=500, random_state=42)\n",
    "sns.pairplot(sample_df)\n",
    "plt.savefig(\"pairplot.png\")\n",
    "plt.close()"
   ]
  }
 ],
 "metadata": {},
 "nbformat": 4,
 "nbformat_minor": 5
}
